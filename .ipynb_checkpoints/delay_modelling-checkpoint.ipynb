{
 "cells": [
  {
   "cell_type": "markdown",
   "id": "a8acf44c-082d-4702-b9e8-37733081c311",
   "metadata": {},
   "source": [
    "# Delay Modelling and Exploration"
   ]
  },
  {
   "cell_type": "markdown",
   "id": "075c815b-f275-434f-85c5-735782ac8a22",
   "metadata": {},
   "source": [
    "## Spark Init"
   ]
  },
  {
   "cell_type": "code",
   "execution_count": null,
   "id": "9c87dfd8-ac4e-4685-b7ce-513935bd6735",
   "metadata": {},
   "outputs": [],
   "source": [
    "%%configure -f\n",
    "{ \"conf\": {\n",
    "        \"mapreduce.input.fileinputformat.input.dir.recursive\": true,\n",
    "        \"spark.sql.extensions\": \"com.hortonworks.spark.sql.rule.Extensions\",\n",
    "        \"spark.kryo.registrator\": \"com.qubole.spark.hiveacid.util.HiveAcidKyroRegistrator\",\n",
    "        \"spark.sql.hive.hiveserver2.jdbc.url\": \"jdbc:hive2://iccluster065.iccluster.epfl.ch:2181,iccluster080.iccluster.epfl.ch:2181,iccluster066.iccluster.epfl.ch:2181/;serviceDiscoveryMode=zooKeeper;zooKeeperNamespace=hiveserver2\",\n",
    "        \"spark.datasource.hive.warehouse.read.mode\": \"JDBC_CLUSTER\",\n",
    "        \"spark.driver.extraClassPath\": \"/opt/cloudera/parcels/SPARK3/lib/hwc_for_spark3/hive-warehouse-connector-spark3-assembly-1.0.0.3.3.7190.2-1.jar\",\n",
    "        \"spark.executor.extraClassPath\": \"/opt/cloudera/parcels/SPARK3/lib/hwc_for_spark3/hive-warehouse-connector-spark3-assembly-1.0.0.3.3.7190.2-1.jar\",\n",
    "        \"spark.kryoserializer.buffer.max\": \"2000m\"\n",
    "    }\n",
    "}"
   ]
  },
  {
   "cell_type": "code",
   "execution_count": null,
   "id": "3387f142-e833-4ffd-b73d-47f7b5fb1688",
   "metadata": {},
   "outputs": [],
   "source": [
    "print(f'Start Spark name:{spark._sc.appName}, version:{spark.version}')"
   ]
  },
  {
   "cell_type": "code",
   "execution_count": null,
   "id": "331dea10-baac-4ea9-b28b-b6be81eef006",
   "metadata": {},
   "outputs": [],
   "source": [
    "%%local\n",
    "import os\n",
    "username=os.getenv('USER', 'anonymous')\n",
    "hadoop_fs=os.getenv('HADOOP_DEFAULT_FS', 'hdfs://iccluster067.iccluster.epfl.ch:8020')\n",
    "print(f\"local username={username}\\nhadoop_fs={hadoop_fs}\")"
   ]
  },
  {
   "cell_type": "code",
   "execution_count": null,
   "id": "acadeb1c-e42c-4993-838c-6c0a7417c033",
   "metadata": {},
   "outputs": [],
   "source": [
    " # (prevent deprecated np.bool error since numpy 1.24, until a new version of pandas/Spark fixes this)\n",
    "import numpy as np\n",
    "np.bool = np.bool_\n",
    "\n",
    "username=spark.conf.get('spark.executorEnv.USERNAME', 'anonymous')\n",
    "hadoop_fs=spark.conf.get('spark.executorEnv.HADOOP_DEFAULT_FS','hdfs://iccluster067.iccluster.epfl.ch:8020')\n",
    "print(f\"remote username={username}\\nhadoop_fs={hadoop_fs}\")"
   ]
  },
  {
   "cell_type": "markdown",
   "id": "3a52813c-1a46-4790-951b-eb916022984b",
   "metadata": {},
   "source": [
    "## Loading the data"
   ]
  },
  {
   "cell_type": "code",
   "execution_count": null,
   "id": "73a5fcf1-8f9f-454a-b6b3-5cab91b79d28",
   "metadata": {},
   "outputs": [],
   "source": [
    "import pyspark.sql.functions as F\n",
    "from pyspark.sql.functions import to_timestamp, col, dayofweek, expr, hour\n",
    "from pyspark.sql.types import IntegerType, ArrayType, FloatType\n",
    "\n",
    "@F.udf\n",
    "def get_hour(timestamp):\n",
    "    return int(timestamp.time().hour)"
   ]
  },
  {
   "cell_type": "code",
   "execution_count": null,
   "id": "2a52f65a-fb4f-44af-8903-792171f830d6",
   "metadata": {},
   "outputs": [],
   "source": [
    "istdaten = spark.read.orc('/data/sbb/orc/istdaten/')\n",
    "nodes_area = spark.read.orc(f\"/user/{username}/graph/nodes_area\").select('stop_id').rdd.map(lambda row: row[0].split(':')[0]).collect()"
   ]
  },
  {
   "cell_type": "markdown",
   "id": "f95e74e4-c76e-4bda-840f-c5df7882aac2",
   "metadata": {},
   "source": [
    "# Data Exploration"
   ]
  },
  {
   "cell_type": "markdown",
   "id": "599177c8-665e-440f-b2ca-387f39cbb940",
   "metadata": {},
   "source": [
    "We take sample of the data to simplify"
   ]
  },
  {
   "cell_type": "code",
   "execution_count": null,
   "id": "ed81c8bc-2a7e-4a36-b098-c4d589a26560",
   "metadata": {},
   "outputs": [],
   "source": [
    "istdaten = istdaten.sample(0.02, 0)"
   ]
  },
  {
   "cell_type": "code",
   "execution_count": null,
   "id": "94628032-82ab-4e1d-a528-0d63173b4712",
   "metadata": {},
   "outputs": [],
   "source": [
    "istdaten.count()"
   ]
  },
  {
   "cell_type": "markdown",
   "id": "d46f6325-6db8-4cea-a4b0-46b618459fba",
   "metadata": {},
   "source": [
    "We change the column names because unfortunately we don't speak german."
   ]
  },
  {
   "cell_type": "code",
   "execution_count": null,
   "id": "e552c6a0-5711-47be-9c41-b6a8ae3f51bd",
   "metadata": {},
   "outputs": [],
   "source": [
    "istdaten = istdaten.withColumnRenamed(\"betriebstag\", \"date_of_trip\")\\\n",
    "                .withColumnRenamed(\"fahrt_bezeichner\", \"trip_id\")\\\n",
    "                .withColumnRenamed(\"betreiber_id\", \"operator_id\")\\\n",
    "                .withColumnRenamed(\"betreiber_abk\", \"operator_abk\")\\\n",
    "                .withColumnRenamed(\"betreiber_name\", \"operator_name\")\\\n",
    "                .withColumnRenamed(\"produkt_id\", \"transport_type\")\\\n",
    "                .withColumnRenamed(\"linien_id\", \"train_number\")\\\n",
    "                .withColumnRenamed(\"linien_text\", \"service_type\")\\\n",
    "                .withColumnRenamed(\"umlauf_id\", \"circulation_id\")\\\n",
    "                .withColumnRenamed(\"verkehrsmittel_text\", \"means_of_transport_text\")\\\n",
    "                .withColumnRenamed(\"zusatzfahrt_tf\", \"is_additional\")\\\n",
    "                .withColumnRenamed(\"faellt_aus_tf\", \"is_failed\")\\\n",
    "                .withColumnRenamed(\"bpuic\", \"stop_id\")\\\n",
    "                .withColumnRenamed(\"haltestellen_name\", \"stop_name\")\\\n",
    "                .withColumnRenamed(\"ankunftszeit\", \"arrival_time\")\\\n",
    "                .withColumnRenamed(\"an_prognose\", \"actual_arrival_time\")\\\n",
    "                .withColumnRenamed(\"abfahrtszeit\", \"departure_time\")\\\n",
    "                .withColumnRenamed(\"ab_prognose\", \"actual_departure_time\")\\\n",
    "                .withColumnRenamed(\"durchfahrt_tf\", \"not_stop\")"
   ]
  },
  {
   "cell_type": "markdown",
   "id": "95194811-a07c-4249-a5d6-f25b63f90931",
   "metadata": {},
   "source": [
    "We remove the failed trips, the trips where the transport does not stop, and additional trips that are not in the timetables. Then we keep only the informations that we need. We also make sure that the dates are uniform."
   ]
  },
  {
   "cell_type": "code",
   "execution_count": null,
   "id": "61e5f1e2-c5dc-4b1f-aac6-d455bb9adc7f",
   "metadata": {},
   "outputs": [],
   "source": [
    "istdaten = istdaten.where((col('is_additional') == 'false')\n",
    "                        & (col('is_failed') == 'false')\n",
    "                        & (col('not_stop') == 'false')).select(\n",
    "    col('date_of_trip').alias('date'),\n",
    "    col('transport_type'),\n",
    "    col('trip_id'),\n",
    "    col('stop_name'), \n",
    "    col('stop_id'),\n",
    "    to_timestamp(col('arrival_time'), 'dd.MM.yyy HH:mm').alias('arrival_time'),\n",
    "    to_timestamp(col('actual_arrival_time'), 'dd.MM.yyyy HH:mm:ss').alias(\"actual_arrival_time\"),\n",
    "    col('AN_PROGNOSE_STATUS').alias('arrival_time_status'),\n",
    "    to_timestamp(col('departure_time'), 'dd.MM.yyy HH:mm').alias(\"departure_time\"),\n",
    "    to_timestamp(col('actual_departure_time'), 'dd.MM.yyyy HH:mm:ss').alias(\"actual_departure_time\"),\n",
    "    col('AB_PROGNOSE_STATUS').alias('departure_time_status')\n",
    "                            )"
   ]
  },
  {
   "cell_type": "code",
   "execution_count": null,
   "id": "946b936e-55b1-4afa-8fdb-79fdf3098b2d",
   "metadata": {},
   "outputs": [],
   "source": [
    "istdaten.count()"
   ]
  },
  {
   "cell_type": "markdown",
   "id": "61fa8307-559d-49ee-8bae-8d044bd0c32a",
   "metadata": {},
   "source": [
    "Now, we only take the stations which are in the area of interest, according to the nodes we preprocessed."
   ]
  },
  {
   "cell_type": "code",
   "execution_count": null,
   "id": "a3c2f3be-b651-4909-9163-231cdf1a4119",
   "metadata": {},
   "outputs": [],
   "source": [
    "istdaten_area = istdaten.where(col('stop_id').isin(nodes_area))"
   ]
  },
  {
   "cell_type": "code",
   "execution_count": null,
   "id": "492287e5-e76f-4d1f-b8d8-1473fddbb3c3",
   "metadata": {},
   "outputs": [],
   "source": [
    "istdaten_area.count()"
   ]
  },
  {
   "cell_type": "markdown",
   "id": "d844be7f-b1a6-4153-88d6-270b21af0776",
   "metadata": {},
   "source": [
    "We know there is different arrival time status, we verify the distribution."
   ]
  },
  {
   "cell_type": "code",
   "execution_count": null,
   "id": "7c065c52-6e6e-4c59-bda3-03bd16a08aa8",
   "metadata": {},
   "outputs": [],
   "source": [
    "istdaten_area.groupBy('arrival_time_status').count().show()"
   ]
  },
  {
   "cell_type": "markdown",
   "id": "12f1f899-a032-4b3b-8caf-16c9c8ace839",
   "metadata": {},
   "source": [
    "We then remove the unknown status (UNBEKANNT) and the empty ones. We therefore only keep the forecast (PROGNOSE), the estimated (400179) and real status."
   ]
  },
  {
   "cell_type": "code",
   "execution_count": null,
   "id": "21d494ed-d28f-43e8-82c6-fb28deb3fb44",
   "metadata": {},
   "outputs": [],
   "source": [
    "istdaten_area = istdaten_area.filter(col('arrival_time_status').isin(['REAL', 'PROGNOSE', 'GESCHAETZT']))"
   ]
  },
  {
   "cell_type": "code",
   "execution_count": null,
   "id": "46be31d3-da3f-4f0e-9925-2ba3f61fe279",
   "metadata": {},
   "outputs": [],
   "source": [
    "istdaten_area.count()"
   ]
  },
  {
   "cell_type": "markdown",
   "id": "8a13b8a2-ca29-4f39-a499-0b84a563d8d1",
   "metadata": {},
   "source": [
    "We also remove null values."
   ]
  },
  {
   "cell_type": "code",
   "execution_count": null,
   "id": "1700d51f-9db9-4e7a-bc79-858359d17dbc",
   "metadata": {},
   "outputs": [],
   "source": [
    "istdaten_area = istdaten_area.where(istdaten_area.arrival_time.isNotNull()\n",
    "                                          & istdaten_area.actual_arrival_time.isNotNull()\n",
    "                                          & istdaten_area.departure_time.isNotNull()\n",
    "                                          & istdaten_area.actual_departure_time.isNotNull()\n",
    "                                          & istdaten_area.transport_type.isNotNull()\n",
    "                                          & (istdaten_area.transport_type != ''))"
   ]
  },
  {
   "cell_type": "code",
   "execution_count": null,
   "id": "fd032f66-6c26-44f0-8007-1f3187d4ef92",
   "metadata": {},
   "outputs": [],
   "source": [
    "istdaten_area.count()"
   ]
  },
  {
   "cell_type": "code",
   "execution_count": null,
   "id": "47a32369-234a-4c1f-bed9-48dc43bac887",
   "metadata": {},
   "outputs": [],
   "source": [
    "istdaten_area.withColumn('day_of_week', dayofweek(istdaten_area.departure_time)).groupBy('day_of_week').count().show()"
   ]
  },
  {
   "cell_type": "markdown",
   "id": "f16b0b3b-3b1f-4a42-b5d9-3b973e91cc31",
   "metadata": {},
   "source": [
    "Then we are interested only on trips occuring in business days during reasonable hours. Therefore we take the data from Monday to Friday between 5 a.m and 8 p.m."
   ]
  },
  {
   "cell_type": "code",
   "execution_count": null,
   "id": "fa7fba64-6fe5-445f-8c03-fcacd7b10b8d",
   "metadata": {},
   "outputs": [],
   "source": [
    "istdaten_week = istdaten_area.where((get_hour(istdaten_area.arrival_time) >= 6)\n",
    "                                          & (get_hour(istdaten_area.arrival_time) <= 22)\n",
    "                                          & (dayofweek(istdaten_area.departure_time) >= 2) \n",
    "                                          & (dayofweek(istdaten_area.departure_time) <= 6))\n",
    "istdaten_week.cache()"
   ]
  },
  {
   "cell_type": "code",
   "execution_count": null,
   "id": "23296440-cc57-455a-a4c4-2175187754da",
   "metadata": {},
   "outputs": [],
   "source": [
    "istdaten_week.count()"
   ]
  },
  {
   "cell_type": "code",
   "execution_count": null,
   "id": "d74423be-8a95-4a82-9923-5a9144e5d463",
   "metadata": {},
   "outputs": [],
   "source": [
    "istdaten_week.withColumn('day_of_week', dayofweek(istdaten_week.departure_time)).groupBy('day_of_week').count().show()"
   ]
  },
  {
   "cell_type": "code",
   "execution_count": null,
   "id": "75d2e2c0-fd6c-4c5f-879d-4da7b3ea47c5",
   "metadata": {},
   "outputs": [],
   "source": [
    "sample_istdaten_week_path = f\"/user/{username}/istdaten/sample_istdaten_week\"\n",
    "istdaten_week.write.mode(\"overwrite\").format(\"orc\").save(sample_istdaten_week_path)"
   ]
  },
  {
   "cell_type": "markdown",
   "id": "44328adb-a958-4f67-b398-40cafd8a3b27",
   "metadata": {},
   "source": [
    "Now we start computing the delays. We are aware that sometimes the departure time may be earlier than the arrival time. Clearly, this is not feasible as a mode of transport cannot leave a station before arriving at it. Therefore we consider that there is 0 delay in that case. We also focus on arrival delay since its the kind of delay that causes missing a connection."
   ]
  },
  {
   "cell_type": "code",
   "execution_count": null,
   "id": "ec9b3f9a-faed-41aa-9f87-9f65d55e7980",
   "metadata": {},
   "outputs": [],
   "source": [
    "istdaten_delays = istdaten_week.withColumn('delay', istdaten_week.actual_arrival_time.cast('long') - istdaten_week.arrival_time.cast('long'))\n",
    "istdaten_delays = istdaten_delays.withColumn(\"delay\", expr(\"CASE WHEN delay < 0 THEN 0 ELSE delay END\"))"
   ]
  },
  {
   "cell_type": "code",
   "execution_count": null,
   "id": "52e00ae0-e946-4dc8-868f-8c7986297e46",
   "metadata": {},
   "outputs": [],
   "source": [
    "sample_delay_path = f\"/user/{username}/istdaten/sample_delay\"\n",
    "istdaten_delays.write.mode(\"overwrite\").format(\"orc\").save(sample_delay_path)"
   ]
  },
  {
   "cell_type": "code",
   "execution_count": null,
   "id": "acdf048f-82a5-46c7-a819-24b1b1ed5d81",
   "metadata": {},
   "outputs": [],
   "source": [
    "istdaten_delays = spark.read.orc(f\"/user/{username}/istdaten/sample_delay\")"
   ]
  },
  {
   "cell_type": "code",
   "execution_count": null,
   "id": "51f4e7bf-a430-401e-8366-80f255c7560e",
   "metadata": {
    "scrolled": true
   },
   "outputs": [],
   "source": [
    "%spark -c False -o istdaten_delays -n -1"
   ]
  },
  {
   "cell_type": "code",
   "execution_count": null,
   "id": "c7dec46c-967f-4999-ab1c-47589f616a3f",
   "metadata": {},
   "outputs": [],
   "source": [
    "delays = istdaten_delays.select('delay')"
   ]
  },
  {
   "cell_type": "code",
   "execution_count": null,
   "id": "fa3f753c-7aec-4884-ba88-cb3852e08c55",
   "metadata": {},
   "outputs": [],
   "source": [
    "from pyspark.sql.functions import desc\n",
    "\n",
    "istdaten_delays.groupBy('stop_id').count().orderBy(desc(\"count\")).show()"
   ]
  },
  {
   "cell_type": "markdown",
   "id": "a552b513-dbe6-47ea-a500-117ecde3b44d",
   "metadata": {},
   "source": [
    "### We explore the distribution of the delays"
   ]
  },
  {
   "cell_type": "code",
   "execution_count": null,
   "id": "0c0c3992-b267-4aba-a0e9-2e9093bb4fd1",
   "metadata": {},
   "outputs": [],
   "source": [
    "%spark -o delays -n -1"
   ]
  },
  {
   "cell_type": "code",
   "execution_count": null,
   "id": "2c744e1d-68e8-4acd-ac24-9edafe80cbc2",
   "metadata": {},
   "outputs": [],
   "source": [
    "%%local\n",
    "import matplotlib.pyplot as plt\n",
    "\n",
    "#define specific parameters for the plot\n",
    "#plt.rcParams['figure.figsize'] = (10,8)\n",
    "#plt.rcParams['font.size'] = 8\n",
    "#plt.style.use('fivethirtyeight')\n",
    "\n",
    "# Plot histogram using Pandas\n",
    "plt.hist(delays['delay'], bins='auto', density=True)\n",
    "plt.xlabel('Delay in seconds')\n",
    "plt.ylabel('Frequency')\n",
    "plt.xlim([0, 600])\n",
    "plt.ylim([0, 0.010])\n",
    "plt.title('Distribution of Delays')\n",
    "\n",
    "# Show the plot using display()\n",
    "plt.show()"
   ]
  },
  {
   "cell_type": "markdown",
   "id": "e8be2cd7-f1fd-414e-ae28-7c81b3dfb6b4",
   "metadata": {
    "jupyter": {
     "source_hidden": true
    }
   },
   "source": [
    "We can see the distribution of the delays. It looks like it can be modeled as an exponential distribution."
   ]
  },
  {
   "cell_type": "markdown",
   "id": "6bc5adbd-8e28-4d64-8c3f-88a2ae7cd067",
   "metadata": {},
   "source": [
    "## Now we try to visualize the link between delays and different parameters"
   ]
  },
  {
   "cell_type": "markdown",
   "id": "2c0dfe1c-21d9-420d-861f-f4ab10182bdf",
   "metadata": {},
   "source": [
    "First we plot the mean delays according to the hours."
   ]
  },
  {
   "cell_type": "code",
   "execution_count": null,
   "id": "99b27484-3554-41c1-9ee2-9edcc43a9d32",
   "metadata": {},
   "outputs": [],
   "source": [
    "istdaten_delays = istdaten_delays.withColumn('hour', get_hour(col('arrival_time')).cast(IntegerType()))\n",
    "delays_by_hour = istdaten_delays.groupBy('hour').agg(F.mean('delay').alias('mean_delay')).orderBy('hour')"
   ]
  },
  {
   "cell_type": "code",
   "execution_count": null,
   "id": "47b0860c-55ea-4042-b7fc-199f9c0882c4",
   "metadata": {},
   "outputs": [],
   "source": [
    "delays_by_hour.show()"
   ]
  },
  {
   "cell_type": "code",
   "execution_count": null,
   "id": "e6aee2a9-9233-4573-aa3f-2378f6e2d6d9",
   "metadata": {},
   "outputs": [],
   "source": [
    "%spark -o delays_by_hour -n -1"
   ]
  },
  {
   "cell_type": "code",
   "execution_count": null,
   "id": "87c1a2e6-a23d-4676-b5bd-18646ab402c3",
   "metadata": {},
   "outputs": [],
   "source": [
    "%%local\n",
    "import numpy as np\n",
    "import matplotlib.cm as cm\n",
    "\n",
    "# Normalize data for colormap\n",
    "norm = plt.Normalize(min(delays_by_hour['mean_delay']), max(delays_by_hour['mean_delay']))\n",
    "colors = cm.RdYlGn_r(norm(delays_by_hour['mean_delay']))  # Using RdYlGn colormap\n",
    "\n",
    "plt.figure()\n",
    "plt.bar(delays_by_hour['hour'], delays_by_hour['mean_delay'], color=colors)\n",
    "plt.xlabel('Hour')\n",
    "plt.ylabel('Mean Delay (minutes)')\n",
    "plt.xticks(range(6, 22))  # Adjust this if necessary to match your data\n",
    "#plt.colorbar(cm.ScalarMappable(norm=norm, cmap='RdYlGn_r'), label='Mean Delay (minutes)')\n",
    "\n",
    "plt.show()"
   ]
  },
  {
   "cell_type": "markdown",
   "id": "1fb35955-2af4-492e-a5aa-6ac444b084cd",
   "metadata": {},
   "source": [
    "As expected, we have times in the days where we have a larger delay on average. Indeed, we notice the presence of rush hours : 17:00 and 18:00 and also 8:00. Therefore, the hours of the trip will be a parameter to compute the probability of delay.\n",
    "\n",
    "Now we will see if there is a link with the type of transport."
   ]
  },
  {
   "cell_type": "code",
   "execution_count": null,
   "id": "cdc4d2a2-cd61-460b-8a61-9feab4aed970",
   "metadata": {},
   "outputs": [],
   "source": [
    "delays_by_transport = istdaten_delays.groupBy('transport_type').agg(F.mean('delay').alias('mean_delay'))"
   ]
  },
  {
   "cell_type": "code",
   "execution_count": null,
   "id": "a01862aa-6e3f-45e9-bf71-ef92ef36ffcd",
   "metadata": {},
   "outputs": [],
   "source": [
    "delays_by_transport.show()"
   ]
  },
  {
   "cell_type": "code",
   "execution_count": null,
   "id": "726f4119-e909-4ff8-9b6b-be6cffa9f2bd",
   "metadata": {},
   "outputs": [],
   "source": [
    "%spark -o delays_by_transport -n -1"
   ]
  },
  {
   "cell_type": "code",
   "execution_count": null,
   "id": "cf29dbf8-df1f-491b-8b31-f71ee2572c8d",
   "metadata": {},
   "outputs": [],
   "source": [
    "%%local\n",
    "\n",
    "norm = plt.Normalize(min(delays_by_transport['mean_delay']), max(delays_by_transport['mean_delay']))\n",
    "colors = cm.RdYlGn_r(norm(delays_by_transport['mean_delay']))  # Using RdYlGn colormap\n",
    "\n",
    "plt.figure()\n",
    "plt.bar(delays_by_transport['transport_type'], delays_by_transport['mean_delay'], color=colors)\n",
    "plt.xlabel('Transport Type')\n",
    "plt.ylabel('Mean delay')\n",
    "plt.show()\n",
    "%matplot plt"
   ]
  },
  {
   "cell_type": "markdown",
   "id": "df5267f5-641f-45ed-87f5-f90af6c249ca",
   "metadata": {},
   "source": [
    "Again we see that the transport type affects the mean delay, therefore we the transport type will also be a parameter for getting the probalility of delay."
   ]
  },
  {
   "cell_type": "code",
   "execution_count": null,
   "id": "f1932933-cba0-463f-ae4b-09e03eb8ecc4",
   "metadata": {},
   "outputs": [],
   "source": [
    "delays_by_trip = istdaten_delays.groupBy('trip_id').agg(F.mean('delay').alias('mean_delay'))"
   ]
  },
  {
   "cell_type": "code",
   "execution_count": null,
   "id": "73ef4523-8d87-422b-b455-6866df0b2a26",
   "metadata": {},
   "outputs": [],
   "source": [
    "delays_by_trip.count()"
   ]
  },
  {
   "cell_type": "markdown",
   "id": "63344da5-9b64-481b-b01d-9cc9745eb95f",
   "metadata": {},
   "source": [
    "## Mean Delays"
   ]
  },
  {
   "cell_type": "markdown",
   "id": "228a8665-69c2-462d-9325-2231940fe2c1",
   "metadata": {},
   "source": [
    "We saw that it would be reasonable to assume that the delays follow an exponential distribution. \n",
    "\n",
    "Therefore we compute and store the mean delays for each stop according to the hour in the day and the transport type.\n",
    "\n",
    "We know also use all the data available to us."
   ]
  },
  {
   "cell_type": "code",
   "execution_count": null,
   "id": "14cf643e-30fa-4b9a-adf8-e8f12c39f9fd",
   "metadata": {},
   "outputs": [],
   "source": [
    "istdaten = spark.read.orc('/data/sbb/orc/istdaten/')\n",
    "nodes_area = spark.read.orc(f\"/user/{username}/graph/nodes_area\").select('stop_id').rdd.map(lambda row: row[0].split(':')[0]).collect()"
   ]
  },
  {
   "cell_type": "code",
   "execution_count": null,
   "id": "a1ef99f8-cfd2-43d6-ac10-236b75aab8a0",
   "metadata": {},
   "outputs": [],
   "source": [
    " \n",
    "istdaten = istdaten.withColumnRenamed(\"betriebstag\", \"date_of_trip\")\\\n",
    "                .withColumnRenamed(\"fahrt_bezeichner\", \"trip_id\")\\\n",
    "                .withColumnRenamed(\"betreiber_id\", \"operator_id\")\\\n",
    "                .withColumnRenamed(\"betreiber_abk\", \"operator_abk\")\\\n",
    "                .withColumnRenamed(\"betreiber_name\", \"operator_name\")\\\n",
    "                .withColumnRenamed(\"produkt_id\", \"transport_type\")\\\n",
    "                .withColumnRenamed(\"linien_id\", \"train_number\")\\\n",
    "                .withColumnRenamed(\"linien_text\", \"service_type\")\\\n",
    "                .withColumnRenamed(\"umlauf_id\", \"circulation_id\")\\\n",
    "                .withColumnRenamed(\"verkehrsmittel_text\", \"means_of_transport_text\")\\\n",
    "                .withColumnRenamed(\"zusatzfahrt_tf\", \"is_additional\")\\\n",
    "                .withColumnRenamed(\"faellt_aus_tf\", \"is_failed\")\\\n",
    "                .withColumnRenamed(\"bpuic\", \"stop_id\")\\\n",
    "                .withColumnRenamed(\"haltestellen_name\", \"stop_name\")\\\n",
    "                .withColumnRenamed(\"ankunftszeit\", \"arrival_time\")\\\n",
    "                .withColumnRenamed(\"an_prognose\", \"actual_arrival_time\")\\\n",
    "                .withColumnRenamed(\"abfahrtszeit\", \"departure_time\")\\\n",
    "                .withColumnRenamed(\"ab_prognose\", \"actual_departure_time\")\\\n",
    "                .withColumnRenamed(\"durchfahrt_tf\", \"not_stop\")\n",
    "\n",
    "istdaten = istdaten.where((col('is_additional') == 'false')\n",
    "                        & (col('is_failed') == 'false')\n",
    "                        & (col('not_stop') == 'false')).select(\n",
    "    col('date_of_trip').alias('date'),\n",
    "    col('transport_type'),\n",
    "    col('trip_id'),\n",
    "    col('stop_name'), \n",
    "    col('stop_id'),\n",
    "    to_timestamp(col('arrival_time'), 'dd.MM.yyy HH:mm').alias('arrival_time'),\n",
    "    to_timestamp(col('actual_arrival_time'), 'dd.MM.yyyy HH:mm:ss').alias(\"actual_arrival_time\"),\n",
    "    col('AN_PROGNOSE_STATUS').alias('arrival_time_status'),\n",
    "    to_timestamp(col('departure_time'), 'dd.MM.yyy HH:mm').alias(\"departure_time\"),\n",
    "    to_timestamp(col('actual_departure_time'), 'dd.MM.yyyy HH:mm:ss').alias(\"actual_departure_time\"),\n",
    "    col('AB_PROGNOSE_STATUS').alias('departure_time_status')\n",
    "                            )\n",
    "\n",
    "istdaten_area = istdaten.where(col('stop_id').isin(nodes_area))\n",
    "\n",
    "istdaten_area = istdaten_area.filter(col('arrival_time_status').isin(['REAL', 'PROGNOSE', 'GESCHAETZT']))\n",
    "\n",
    "istdaten_area = istdaten_area.where(istdaten_area.arrival_time.isNotNull()\n",
    "                                          & istdaten_area.actual_arrival_time.isNotNull()\n",
    "                                          & istdaten_area.departure_time.isNotNull()\n",
    "                                          & istdaten_area.actual_departure_time.isNotNull()\n",
    "                                          & istdaten_area.transport_type.isNotNull()\n",
    "                                          & (istdaten_area.transport_type != ''))\n",
    "\n",
    "istdaten_week = istdaten_area.where((get_hour(istdaten_area.arrival_time) >= 6)\n",
    "                                          & (get_hour(istdaten_area.arrival_time) <= 22)\n",
    "                                          & (dayofweek(istdaten_area.departure_time) >= 2) \n",
    "                                          & (dayofweek(istdaten_area.departure_time) <= 6))\n",
    "istdaten_week.cache()"
   ]
  },
  {
   "cell_type": "code",
   "execution_count": null,
   "id": "c882a542-085a-481c-89cf-c7de31ea1418",
   "metadata": {},
   "outputs": [],
   "source": [
    "istdaten_week_path = f\"/user/{username}/istdaten/istdaten_week\"\n",
    "istdaten_week.write.mode(\"overwrite\").format(\"orc\").save(istdaten_week_path)"
   ]
  },
  {
   "cell_type": "code",
   "execution_count": null,
   "id": "0e796b87-e9f3-4e03-b56b-dc9cb391d896",
   "metadata": {},
   "outputs": [],
   "source": [
    "istdaten_week = spark.read.orc(f\"/user/{username}/istdaten/istdaten_week\")"
   ]
  },
  {
   "cell_type": "code",
   "execution_count": null,
   "id": "99aa8911-b794-4a5b-b87c-1fb06735c9b7",
   "metadata": {},
   "outputs": [],
   "source": [
    "istdaten_delays = istdaten_week.withColumn('delay', istdaten_week.actual_arrival_time.cast('long') - istdaten_week.arrival_time.cast('long'))\n",
    "istdaten_delays = istdaten_delays.withColumn(\"delay\", expr(\"CASE WHEN delay < 0 THEN 0 ELSE delay END\")).withColumn('hour', get_hour(col('arrival_time')).cast(IntegerType()))\n",
    "istdaten_delays.cache()"
   ]
  },
  {
   "cell_type": "code",
   "execution_count": null,
   "id": "64b021ff-1867-43b8-bf18-06d33a44c5e0",
   "metadata": {},
   "outputs": [],
   "source": [
    "all_delays = istdaten_delays.select(istdaten_delays.stop_id, istdaten_delays.hour, istdaten_delays.delay)"
   ]
  },
  {
   "cell_type": "code",
   "execution_count": null,
   "id": "1ba1d764-92b9-4bfd-b34f-877736732dbd",
   "metadata": {},
   "outputs": [],
   "source": [
    "all_delay_path = f\"/user/{username}/delay/all_delays_all\"\n",
    "all_delays.write.mode(\"overwrite\").format(\"orc\").save(all_delay_path)"
   ]
  },
  {
   "cell_type": "code",
   "execution_count": null,
   "id": "e1513ad4-c983-4035-b949-d84191747a40",
   "metadata": {},
   "outputs": [],
   "source": [
    "avg_delay = istdaten_delays.groupBy('stop_id', 'hour').agg(\n",
    "    F.avg('delay').alias('avg_delay'),\n",
    "    F.stddev('delay').alias('std_delay')\n",
    ")"
   ]
  },
  {
   "cell_type": "code",
   "execution_count": null,
   "id": "079d50bc-5d9b-43bd-98ad-79c8c315c325",
   "metadata": {},
   "outputs": [],
   "source": [
    "avg_delay_path = f\"/user/{username}/delay/avg_delay\"\n",
    "avg_delay.write.mode(\"overwrite\").format(\"orc\").save(avg_delay_path)"
   ]
  },
  {
   "cell_type": "code",
   "execution_count": null,
   "id": "540054d7-ce29-45f6-93a6-0efc8cf73881",
   "metadata": {},
   "outputs": [],
   "source": [
    "spark.stop()"
   ]
  }
 ],
 "metadata": {
  "kernelspec": {
   "display_name": "PySpark",
   "language": "python",
   "name": "pysparkkernel"
  },
  "language_info": {
   "codemirror_mode": {
    "name": "python",
    "version": 3
   },
   "file_extension": ".py",
   "mimetype": "text/x-python",
   "name": "pyspark",
   "pygments_lexer": "python3"
  }
 },
 "nbformat": 4,
 "nbformat_minor": 5
}
